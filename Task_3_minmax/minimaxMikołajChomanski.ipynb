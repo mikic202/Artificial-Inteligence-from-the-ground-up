{
  "cells": [
    {
      "cell_type": "markdown",
      "source": [
        "# Ćwiczenie 3\n",
        "\n",
        "Celem ćwiczenia jest imlementacja metody [Minimax z obcinaniem alpha-beta](https://en.wikipedia.org/wiki/Alpha%E2%80%93beta_pruning) do gry Connect Four (czwórki).\n",
        "\n",
        "W trakcie ćwiczenia można skorzystać z reposytorium z implementacją gry [Connect Four udostępnionym przez Jakuba Łyskawę](https://github.com/lychanl/two-player-games). Ewentualnie, można zaimplementować samemu grę Connect Four (ale, tak aby rozwiązanie miało ten sam interfejs co podany poniżej).\n",
        "\n",
        "Implementację Minimax należy przetestować używając różną głębokość przeszukiwania. Implementacja Solvera musi zapewniać interfejs jak poniżej, ale można dodać dowolne metody prywatne oraz klasy wspomagające (jeżeli będą potrzebne).\n",
        "\n",
        "Punktacja:\n",
        "- Działająca metoda Minimax - **2 pkt**\n",
        "- Działająca metoda Minimax z obcinaniem alpha-beta - **1.5 pkt**\n",
        "- Analiza jakości solvera w zależności od głębokości przeszukiwania **1.5pkt**\n",
        "    - należy zaimplementować w tym celu prostą wizualizację rozgrywki dwóch agentów, bądź kilka przykładów 'z ręki'\n",
        "- Jakość kodu **2pkt**"
      ],
      "metadata": {
        "collapsed": false
      }
    },
    {
      "cell_type": "markdown",
      "source": [
        "Aby importowanie elementów z poniższej komórki działało należy umieścić tego notebooka w tym samym folderze co paczkę `two_player_games`:\n",
        "```\n",
        "├── LICENSE\n",
        "├── README.md\n",
        "├── minimax.ipynb # <<< HERE\n",
        "├── test\n",
        "│   ├── __init__.py\n",
        "│   ├── test_connect_four.py\n",
        "│   ├── test_dots_and_boxes.py\n",
        "│   └── test_pick.py\n",
        "└── two_player_games\n",
        "    ├── __init__.py\n",
        "    ├── games\n",
        "    │   ├── connect_four.py\n",
        "    │   └── dots_and_boxes.py\n",
        "    ├── move.py\n",
        "    ├── player.py\n",
        "    └── state.py\n",
        "```"
      ],
      "metadata": {
        "collapsed": false
      }
    },
    {
      "cell_type": "code",
      "source": [
        "from typing import Tuple, List\n",
        "\n",
        "from two_player_games.player import Player\n",
        "from typing import Tuple, List, Optional\n",
        "\n",
        "from two_player_games.player import Player\n",
        "from two_player_games.games.connect_four import (\n",
        "    ConnectFour,\n",
        "    ConnectFourMove,\n",
        "    ConnectFourState,)\n",
        "\n",
        "from time import time\n",
        "\n",
        "import matplotlib.pyplot as plt"
      ],
      "outputs": [],
      "execution_count": 2,
      "metadata": {
        "collapsed": true
      }
    },
    {
      "cell_type": "markdown",
      "source": [
        "Wielkość planszy"
      ],
      "metadata": {
        "collapsed": false
      }
    },
    {
      "cell_type": "code",
      "source": [
        "ROW_COUNT = 6\n",
        "COLUMN_COUNT = 7"
      ],
      "outputs": [],
      "execution_count": 3,
      "metadata": {
        "collapsed": false
      }
    },
    {
      "cell_type": "markdown",
      "source": [
        "# implementacja"
      ],
      "metadata": {}
    },
    {
      "cell_type": "code",
      "source": [
        "WIN_VALUE = 100\n",
        "ENEMY_MULTIPLIER = -2.5\n",
        "CONNECTED_FIELD_WEIGHTS = {0: 0, 1: 1, 2: 6, 3: 12}\n",
        "DEPTH = 5"
      ],
      "outputs": [],
      "execution_count": 5,
      "metadata": {}
    },
    {
      "cell_type": "code",
      "source": [
        "def find_last_element_in_line(line: List[Optional[Player]]): # not the best name\n",
        "    try:\n",
        "        return max(line.index(None) - 1, 0)\n",
        "    except ValueError:\n",
        "        return -1\n",
        "\n",
        "class MinMaxSolver:\n",
        "    def __init__(self, game: ConnectFour) -> None:\n",
        "        self.game = game\n",
        "        self._gmae_size = (len(game.state.fields), len(game.state.fields[0]))\n",
        "        self.temporary_game_state = ConnectFourState(self._gmae_size)\n",
        "\n",
        "    def evaluate_position(self, player: Player) -> float:\n",
        "        position_score = 0.0\n",
        "\n",
        "        if self.temporary_game_state.is_finished():\n",
        "            if self.temporary_game_state.get_winner() == player:\n",
        "                return WIN_VALUE\n",
        "            return WIN_VALUE * ENEMY_MULTIPLIER\n",
        "\n",
        "        position_score += self._evaluate_columns()\n",
        "\n",
        "        position_score += self._evaluate_rows()\n",
        "\n",
        "        position_score += self._evaluate_diagonal_positiv()\n",
        "\n",
        "        position_score += self._evaluate_diagonal_negative()\n",
        "\n",
        "        return position_score\n",
        "\n",
        "    def get_best_move(self, with_alpha_beta: bool = True, depth: int = 3) -> int:\n",
        "        self._copy_game_state_to_temporary(self.game.state)\n",
        "        if with_alpha_beta:\n",
        "            return self.alpha_beta(depth, -float(\"inf\"), float(\"inf\"), True)[0]\n",
        "        return self.minimax(depth, -float(\"inf\"), float(\"inf\"), True)[0]\n",
        "\n",
        "    def is_valid_move(self, col_index: int) -> bool:\n",
        "        return (\n",
        "            find_last_element_in_line(self.temporary_game_state.fields[col_index]) != -1\n",
        "        )\n",
        "\n",
        "    def minimax(\n",
        "        self,\n",
        "        depth,\n",
        "        alpha: float,\n",
        "        beta: float,\n",
        "        is_maximizing_player: bool,\n",
        "    ) -> Tuple[int, float]:\n",
        "        move_evaluations = []\n",
        "        if depth == 0 or self.temporary_game_state.is_finished():\n",
        "            return (\n",
        "                0,\n",
        "                self.evaluate_position(self.game.state.get_current_player()),\n",
        "            )\n",
        "            \n",
        "        start_game_state = ConnectFourState(\n",
        "            self._gmae_size,\n",
        "            self.temporary_game_state.get_current_player(),\n",
        "            self.temporary_game_state.get_players()[-1],\n",
        "            self.temporary_game_state.fields.copy(),\n",
        "        )\n",
        "        \n",
        "        for colunm_index in range(len(self.game.state.fields)):\n",
        "            if self.is_valid_move(colunm_index):\n",
        "                \n",
        "                self.temporary_game_state = self.temporary_game_state.make_move(\n",
        "                    ConnectFourMove(colunm_index)\n",
        "                )\n",
        "                \n",
        "                _, value = self.minimax(\n",
        "                    depth - 1, alpha, beta, not is_maximizing_player\n",
        "                )\n",
        "                \n",
        "                move_evaluations.append((colunm_index, value))\n",
        "                \n",
        "                self._copy_game_state_to_temporary(start_game_state)\n",
        "                \n",
        "        move_evaluations.sort(key=lambda x: x[1], reverse=is_maximizing_player)\n",
        "        return move_evaluations[0]\n",
        "\n",
        "    def alpha_beta(\n",
        "        self,\n",
        "        depth,\n",
        "        alpha: float,\n",
        "        beta: float,\n",
        "        is_maximizing_player: bool,\n",
        "    ) -> Tuple[int, float]:\n",
        "        if depth == 0 or self.temporary_game_state.is_finished():\n",
        "            return (\n",
        "                None,\n",
        "                self.evaluate_position(self.game.state.get_current_player()),\n",
        "            )\n",
        "            \n",
        "        start_game_state = ConnectFourState(\n",
        "            self._gmae_size,\n",
        "            self.temporary_game_state.get_current_player(),\n",
        "            self.temporary_game_state.get_players()[-1],\n",
        "            self.temporary_game_state.fields.copy(),\n",
        "        )\n",
        "        \n",
        "        best_move = 0\n",
        "        for colunm_index in range(len(self.game.state.fields)):\n",
        "            if self.is_valid_move(colunm_index):\n",
        "                \n",
        "                value = self._test_move_alpha_beta(depth, alpha, beta, is_maximizing_player, colunm_index)\n",
        "                \n",
        "                if is_maximizing_player:\n",
        "                    best_move = colunm_index if alpha < value else best_move\n",
        "                    alpha = max(alpha, value)\n",
        "                    if alpha >= beta:\n",
        "                        return (colunm_index, beta)\n",
        "                else:\n",
        "                    best_move = colunm_index if beta > value else best_move\n",
        "                    beta = min(beta, value)\n",
        "                    if beta <= alpha:\n",
        "                        return (colunm_index, alpha)\n",
        "\n",
        "                self._copy_game_state_to_temporary(start_game_state)\n",
        "        return (best_move, alpha) if is_maximizing_player else (best_move, beta)\n",
        "    \n",
        "    def _test_move_alpha_beta(self,\n",
        "        depth,\n",
        "        alpha: float,\n",
        "        beta: float,\n",
        "        is_maximizing_player: bool,\n",
        "        move_index: int) -> float:\n",
        "        self.temporary_game_state = self.temporary_game_state.make_move(\n",
        "                ConnectFourMove(move_index)\n",
        "            )\n",
        "        _, value = self.alpha_beta(\n",
        "            depth - 1, alpha, beta, not is_maximizing_player\n",
        "        )\n",
        "        return value\n",
        "        \n",
        "\n",
        "    def _copy_game_state_to_temporary(self, saved_state: ConnectFourState):\n",
        "        self.temporary_game_state = ConnectFourState(\n",
        "            self._gmae_size,\n",
        "            saved_state.get_current_player(),\n",
        "            saved_state.get_players()[-1],\n",
        "            saved_state.fields.copy(),\n",
        "        )\n",
        "\n",
        "    def _evaluate_one_column(self, column: List[Optional[Player]], player: Player):\n",
        "        start_index = find_last_element_in_line(column)\n",
        "        researched_space = column[start_index]\n",
        "        if researched_space is None:\n",
        "            return 0\n",
        "        number_of_player_spaces = 0\n",
        "        while start_index >= 0 and column[start_index].char == researched_space.char:\n",
        "            number_of_player_spaces += 1\n",
        "            start_index -= 1\n",
        "        return number_of_player_spaces * (\n",
        "            1 if researched_space.char == player.char else ENEMY_MULTIPLIER\n",
        "        )\n",
        "\n",
        "    def _evaluate_non_column_line(\n",
        "        self, line: List[Optional[Player]], player: Player\n",
        "    ) -> float:\n",
        "        row_value = 0\n",
        "        if None not in line:\n",
        "            return 0\n",
        "        for frame_number in range(len(line) - 4 + 1):\n",
        "            temporary_frame = line[frame_number : frame_number + 4]\n",
        "            if self._should_line_not_be_evaluated(temporary_frame, player):\n",
        "                continue\n",
        "            if player not in temporary_frame:\n",
        "                row_value += (\n",
        "                    CONNECTED_FIELD_WEIGHTS[\n",
        "                        len(temporary_frame) - temporary_frame.count(None)\n",
        "                    ]\n",
        "                    * ENEMY_MULTIPLIER\n",
        "                )\n",
        "                continue\n",
        "            row_value += CONNECTED_FIELD_WEIGHTS[temporary_frame.count(player)]\n",
        "        return row_value\n",
        "\n",
        "    def _should_line_not_be_evaluated(self, line: List[Player], player: Player):\n",
        "        return (\n",
        "            None not in line\n",
        "            or (player in line and self.game.state.get_players()[-1] in line)\n",
        "            or line.count(None) == len(line)\n",
        "        )\n",
        "\n",
        "    def _evaluate_columns(self) -> float:\n",
        "        evaluation = 0.0\n",
        "        for line in self.temporary_game_state.fields:\n",
        "            evaluation += self._evaluate_one_column(\n",
        "                line, self.game.state.get_current_player()\n",
        "            )\n",
        "        return evaluation\n",
        "\n",
        "    def _evaluate_rows(self) -> float:\n",
        "        evaluation = 0.0\n",
        "        for row_num in range(self._gmae_size[1]):\n",
        "            evaluation += self._evaluate_non_column_line(\n",
        "                [column[row_num] for column in self.temporary_game_state.fields],\n",
        "                self.game.state.get_current_player(),\n",
        "            )\n",
        "        return evaluation\n",
        "\n",
        "    def _evaluate_diagonal_positiv(self) -> float:\n",
        "        evaluation = 0.0\n",
        "        for column_num in range(3, self._gmae_size[0]):\n",
        "            evaluation += self._evaluate_non_column_line(\n",
        "                [\n",
        "                    self.temporary_game_state.fields[column_num - i][i]\n",
        "                    for i in range(column_num)\n",
        "                ],\n",
        "                self.game.state.get_current_player(),\n",
        "            )\n",
        "        return evaluation\n",
        "\n",
        "    def _evaluate_diagonal_negative(self) -> float:\n",
        "        evaluation = 0.0\n",
        "        for column_num in range(self._gmae_size[0] - 3):\n",
        "            evaluation += self._evaluate_non_column_line(\n",
        "                [\n",
        "                    self.temporary_game_state.fields[column_num + i][i]\n",
        "                    for i in range(column_num)\n",
        "                ],\n",
        "                self.game.state.get_current_player(),\n",
        "            )\n",
        "        return evaluation"
      ],
      "outputs": [],
      "execution_count": 6,
      "metadata": {
        "collapsed": false
      }
    },
    {
      "cell_type": "markdown",
      "source": [
        "W implementacji widzimy dwie metody minmax i alphabeta. W pierwszej z tych metod zaimplementowany jest algorytm minmax bez przycinania alpha beta a w drugiej metodzie te przycinanie jest zaimplementowane. Dodatkowo można by było przekształcić algorytm tak aby przyjmował odpowiednią funkcję ewaluacyjną jako lambdę, w ten sposób algorytm byłby bardziej reużywalny (nie zrobiłem tego poniewaz chciałem trzymać się dostarczonego szkieletu). W implementacji jest sporo pętli i warunków if i próbowałem od tego uciec ale niestety nie wszędzie znalazłem rozwiązanie. Aby obliczyć wartość funkcji ewaluacji dla danej pozycji musimy, dany róch wykonać na tymczasowej planszy, a następnie dokonać ewaluacji tej planszy. Zliczamy liczbę pól danego koloru w okolicach których można postawić pionek, a następnie tą ilość przekształcamy na punkty przy pomocy słownika wag i jeżeli dane pionki nie są gracza który aktualnie wykonuje ruch to mnożymy ten wynik przez ujemną wartość. Dodatkowo mamy oddzielną wagę jeżeli gra została wygrana."
      ],
      "metadata": {}
    },
    {
      "cell_type": "markdown",
      "source": [
        "# Przykład gry"
      ],
      "metadata": {}
    },
    {
      "cell_type": "code",
      "source": [
        "p1 = Player(\"a\")\n",
        "p2 = Player(\"b\")\n",
        "game = ConnectFour(size=(COLUMN_COUNT, ROW_COUNT), first_player=p1, second_player=p2)\n",
        "\n",
        "solver = MinMaxSolver(game)\n",
        "while not game.is_finished():\n",
        "    move = solver.get_best_move()\n",
        "    game.make_move(ConnectFourMove(move))\n",
        "print(game)\n",
        "print(f'Winner: {game.get_winner().char}')"
      ],
      "outputs": [
        {
          "output_type": "stream",
          "name": "stdout",
          "text": "Current player: b\n[a][b][ ][a][b][ ][ ]\n[b][a][a][a][b][ ][ ]\n[b][a][b][b][b][ ][ ]\n[a][b][a][a][a][ ][ ]\n[b][a][b][a][b][a][ ]\n[a][b][a][a][b][b][ ]\nWinner: a\n"
        }
      ],
      "execution_count": 7,
      "metadata": {}
    },
    {
      "cell_type": "markdown",
      "source": [
        "# Różne Wagi"
      ],
      "metadata": {}
    },
    {
      "cell_type": "markdown",
      "source": [
        "Wagi wygranej nie za bardzo trzeba dostrajać, ale warto by było aby była całkiem spora"
      ],
      "metadata": {}
    },
    {
      "cell_type": "code",
      "source": [
        "p1 = Player(\"a\")\n",
        "p2 = Player(\"b\")\n",
        "game = ConnectFour(size=(COLUMN_COUNT, ROW_COUNT), first_player=p1, second_player=p2)\n",
        "\n",
        "print(\"a to zestaw wag: {0: 0, 1: 1, 2: 3, 3: 12}\")\n",
        "print(\"b to zestaw wag: {0: 0, 1: 1, 2: 6, 3: 12}\")\n",
        "\n",
        "solver = MinMaxSolver(game)\n",
        "while not game.is_finished():\n",
        "    CONNECTED_FIELD_WEIGHTS = {0: 0, 1: 1, 2: 3, 3: 12}\n",
        "    move = solver.get_best_move()\n",
        "    game.make_move(ConnectFourMove(move[0]))\n",
        "    if game.is_finished():\n",
        "        break\n",
        "    CONNECTED_FIELD_WEIGHTS = {0: 0, 1: 1, 2: 6, 3: 12}\n",
        "    move = solver.get_best_move()\n",
        "    game.make_move(ConnectFourMove(move[0]))\n",
        "print(game)\n",
        "print(f'Winner: {game.get_winner().char}')"
      ],
      "outputs": [
        {
          "output_type": "stream",
          "name": "stdout",
          "text": "a to zestaw wag: {0: 0, 1: 1, 2: 3, 3: 12}\nb to zestaw wag: {0: 0, 1: 1, 2: 6, 3: 12}\nCurrent player: a\n[ ][ ][ ][ ][ ][ ][ ]\n[ ][ ][ ][ ][ ][ ][ ]\n[ ][ ][a][b][ ][ ][ ]\n[ ][ ][a][b][b][ ][ ]\n[ ][a][b][b][a][b][ ]\n[a][b][a][b][a][a][ ]\nWinner: b\n"
        }
      ],
      "execution_count": 60,
      "metadata": {}
    },
    {
      "cell_type": "code",
      "source": [
        "p1 = Player(\"a\")\n",
        "p2 = Player(\"b\")\n",
        "game = ConnectFour(size=(COLUMN_COUNT, ROW_COUNT), first_player=p1, second_player=p2)\n",
        "\n",
        "print(\"a to zestaw wag: {0: 0, 1: 1, 2: 6, 3: 12}\")\n",
        "print(\"b to zestaw wag: {0: 0, 1: 1, 2: 6, 3: 18}\")\n",
        "\n",
        "solver = MinMaxSolver(game)\n",
        "while not game.is_finished():\n",
        "    CONNECTED_FIELD_WEIGHTS = {0: 0, 1: 1, 2: 6, 3: 12}\n",
        "    move = solver.get_best_move()\n",
        "    game.make_move(ConnectFourMove(move[0]))\n",
        "    if game.is_finished():\n",
        "        break\n",
        "    CONNECTED_FIELD_WEIGHTS = {0: 0, 1: 1, 2: 6, 3: 18}\n",
        "    move = solver.get_best_move()\n",
        "    game.make_move(ConnectFourMove(move[0]))\n",
        "print(game)\n",
        "print(f'Winner: {game.get_winner().char}')"
      ],
      "outputs": [
        {
          "output_type": "stream",
          "name": "stdout",
          "text": "a to zestaw wag: {0: 0, 1: 1, 2: 6, 3: 12}\nb to zestaw wag: {0: 0, 1: 1, 2: 6, 3: 18}\nCurrent player: b\n[a][b][ ][a][b][ ][ ]\n[b][a][a][a][b][ ][ ]\n[b][a][b][b][b][ ][ ]\n[a][b][a][a][a][ ][ ]\n[b][a][b][a][b][a][ ]\n[a][b][a][a][b][b][ ]\nWinner: a\n"
        }
      ],
      "execution_count": 61,
      "metadata": {}
    },
    {
      "cell_type": "markdown",
      "source": [
        "# Porównanie MinMax z i bez przycinania alpha-beta"
      ],
      "metadata": {}
    },
    {
      "cell_type": "code",
      "source": [
        "p1 = Player(\"a\")\n",
        "p2 = Player(\"b\")\n",
        "game = ConnectFour(size=(COLUMN_COUNT, ROW_COUNT), first_player=p1, second_player=p2)\n",
        "\n",
        "solver = MinMaxSolver(game)\n",
        "\n",
        "for i in range(10):\n",
        "    move = solver.get_best_move()\n",
        "    game.make_move(ConnectFourMove(move[0]))\n",
        "\n",
        "start = time()\n",
        "move = solver.get_best_move()\n",
        "print(f'Czas obliczania z przycinaniem: {time() - start}')\n",
        "\n",
        "start = time()\n",
        "move = solver.get_best_move(False)\n",
        "print(f'Czas obliczania bez przycinania: {time() - start}')"
      ],
      "outputs": [
        {
          "output_type": "stream",
          "name": "stdout",
          "text": "Czas obliczania z przycinaniem: 0.027407169342041016\nCzas obliczania bez przycinania: 0.04645562171936035\n"
        }
      ],
      "execution_count": 20,
      "metadata": {}
    },
    {
      "cell_type": "code",
      "source": [
        "p1 = Player(\"a\")\n",
        "p2 = Player(\"b\")\n",
        "game = ConnectFour(size=(COLUMN_COUNT, ROW_COUNT), first_player=p1, second_player=p2)\n",
        "\n",
        "solver = MinMaxSolver(game)\n",
        "\n",
        "for i in range(10):\n",
        "    move = solver.get_best_move()\n",
        "    game.make_move(ConnectFourMove(move[0]))\n",
        "\n",
        "start = time()\n",
        "move = solver.get_best_move(depth=5)\n",
        "print(f'Czas obliczania z przycinaniem: {time() - start}')\n",
        "\n",
        "start = time()\n",
        "move = solver.get_best_move(False, depth=5)\n",
        "print(f'Czas obliczania bez przycinania: {time() - start}')"
      ],
      "outputs": [
        {
          "output_type": "stream",
          "name": "stdout",
          "text": "Czas obliczania z przycinaniem: 0.42548108100891113\nCzas obliczania bez przycinania: 2.0333712100982666\n"
        }
      ],
      "execution_count": 19,
      "metadata": {}
    },
    {
      "cell_type": "code",
      "source": [
        "p1 = Player(\"a\")\n",
        "p2 = Player(\"b\")\n",
        "game = ConnectFour(size=(COLUMN_COUNT, ROW_COUNT), first_player=p1, second_player=p2)\n",
        "\n",
        "solver = MinMaxSolver(game)\n",
        "is_pruning = False\n",
        "while not game.is_finished():\n",
        "    move = solver.get_best_move(is_pruning)\n",
        "    game.make_move(ConnectFourMove(move[0]))\n",
        "    is_pruning = not is_pruning\n",
        "print(game)\n",
        "print(f'Winner: {game.get_winner().char}')\n",
        "\n",
        "game = ConnectFour(size=(COLUMN_COUNT, ROW_COUNT), first_player=p1, second_player=p2)\n",
        "\n",
        "solver = MinMaxSolver(game)\n",
        "is_pruning = True\n",
        "while not game.is_finished():\n",
        "    move = solver.get_best_move(is_pruning)\n",
        "    game.make_move(ConnectFourMove(move[0]))\n",
        "    is_pruning = not is_pruning\n",
        "print(game)\n",
        "print(f'Winner: {game.get_winner().char}')"
      ],
      "outputs": [
        {
          "output_type": "stream",
          "name": "stdout",
          "text": "Current player: b\n[a][b][ ][a][b][ ][ ]\n[b][a][a][a][b][ ][ ]\n[b][a][b][b][b][ ][ ]\n[a][b][a][a][a][ ][ ]\n[b][a][b][a][b][a][ ]\n[a][b][a][a][b][b][ ]\nWinner: a\nCurrent player: b\n[a][b][ ][a][b][ ][ ]\n[b][a][a][a][b][ ][ ]\n[b][a][b][b][b][ ][ ]\n[a][b][a][a][a][ ][ ]\n[b][a][b][a][b][a][ ]\n[a][b][a][a][b][b][ ]\nWinner: a\n"
        }
      ],
      "execution_count": 63,
      "metadata": {}
    },
    {
      "cell_type": "markdown",
      "source": [
        "# Test głębokości"
      ],
      "metadata": {}
    },
    {
      "cell_type": "code",
      "source": [
        "dephts = [1, 2, 3, 4, 5, 6, 7, 8]\n",
        "times = []\n",
        "\n",
        "p1 = Player(\"a\")\n",
        "p2 = Player(\"b\")\n",
        "game = ConnectFour(size=(COLUMN_COUNT, ROW_COUNT), first_player=p1, second_player=p2)\n",
        "\n",
        "solver = MinMaxSolver(game)\n",
        "\n",
        "for i in range(10):\n",
        "    move = solver.get_best_move()\n",
        "    game.make_move(ConnectFourMove(move[0]))\n",
        "\n",
        "for depht in dephts:\n",
        "    start = time()\n",
        "    move = solver.get_best_move(depth=depht)\n",
        "    times.append(time() - start)\n",
        "    print(f'Took: {times[-1]} for depth: {depht}')\n",
        "\n",
        "plt.plot(dephts, times)\n",
        "plt.title(\"Czas obliczeń w stosunku do głębokości\")\n",
        "plt.xlabel(\"Głębokość\")\n",
        "plt.ylabel(\"Czas [s]\")"
      ],
      "outputs": [
        {
          "output_type": "stream",
          "name": "stdout",
          "text": "Took: 0.0011508464813232422 for depth: 1\nTook: 0.004107475280761719 for depth: 2\nTook: 0.014369726181030273 for depth: 3\nTook: 0.049698591232299805 for depth: 4\nTook: 0.22799897193908691 for depth: 5\nTook: 0.8652896881103516 for depth: 6\nTook: 2.501167058944702 for depth: 7\nTook: 10.534006357192993 for depth: 8\n"
        },
        {
          "output_type": "execute_result",
          "execution_count": 64,
          "data": {
            "text/plain": "Text(0, 0.5, 'Czas [s]')"
          },
          "metadata": {}
        },
        {
          "output_type": "display_data",
          "data": {
            "image/png": "[encoded data removed]",
            "text/plain": "<Figure size 640x480 with 1 Axes>"
          },
          "metadata": {}
        }
      ],
      "execution_count": 64,
      "metadata": {}
    },
    {
      "cell_type": "markdown",
      "source": [
        "Czas przetwarzania róchu zwiększa się średno 3-4 krotnie wraz ze wzrostem głębokości. Wyjątkiem jest wzrost z głębokości 4 na 5 gdzie czas wydłuża się około 5 krotnie. "
      ],
      "metadata": {}
    },
    {
      "cell_type": "code",
      "source": [
        "p1 = Player(\"4\")\n",
        "p2 = Player(\"3\")\n",
        "game = ConnectFour(size=(COLUMN_COUNT, ROW_COUNT), first_player=p1, second_player=p2)\n",
        "\n",
        "deepths = [4, 3]\n",
        "depth_index = 0\n",
        "\n",
        "solver = MinMaxSolver(game)\n",
        "while not game.is_finished():\n",
        "    move = solver.get_best_move(depth=deepths[depth_index%2])\n",
        "    game.make_move(ConnectFourMove(move[0]))\n",
        "    depth_index += 1\n",
        "print(game)\n",
        "print(f'Winner depth: {game.get_winner().char}')"
      ],
      "outputs": [
        {
          "output_type": "stream",
          "name": "stdout",
          "text": "Current player: 3\n[4][3][3][4][4][ ][ ]\n[3][3][4][4][3][ ][ ]\n[4][4][3][3][4][4][ ]\n[3][3][4][4][4][3][ ]\n[4][3][3][4][3][4][ ]\n[3][4][4][3][3][3][4]\nWinner depth: 4\n"
        }
      ],
      "execution_count": 68,
      "metadata": {}
    },
    {
      "cell_type": "code",
      "source": [
        "p1 = Player(\"4\")\n",
        "p2 = Player(\"5\")\n",
        "game = ConnectFour(size=(COLUMN_COUNT, ROW_COUNT), first_player=p1, second_player=p2)\n",
        "\n",
        "deepths = [4, 5]\n",
        "depth_index = 0\n",
        "\n",
        "solver = MinMaxSolver(game)\n",
        "while not game.is_finished():\n",
        "    move = solver.get_best_move(depth=deepths[depth_index%2])\n",
        "    game.make_move(ConnectFourMove(move[0]))\n",
        "    depth_index += 1\n",
        "print(game)\n",
        "print(f'Winner depth: {game.get_winner().char}')"
      ],
      "outputs": [
        {
          "output_type": "stream",
          "name": "stdout",
          "text": "Current player: 4\n[ ][4][4][5][ ][4][ ]\n[ ][4][5][5][5][4][ ]\n[ ][5][4][4][4][5][ ]\n[5][4][5][5][5][4][ ]\n[4][4][5][4][4][5][ ]\n[5][4][5][5][5][4][ ]\nWinner depth: 5\n"
        }
      ],
      "execution_count": 72,
      "metadata": {}
    },
    {
      "cell_type": "code",
      "source": [
        "p1 = Player(\"5\")\n",
        "p2 = Player(\"6\")\n",
        "game = ConnectFour(size=(COLUMN_COUNT, ROW_COUNT), first_player=p1, second_player=p2)\n",
        "\n",
        "deepths = [5, 6]\n",
        "depth_index = 0\n",
        "\n",
        "solver = MinMaxSolver(game)\n",
        "while not game.is_finished():\n",
        "    move = solver.get_best_move(depth=deepths[depth_index%2])\n",
        "    game.make_move(ConnectFourMove(move[0]))\n",
        "    depth_index += 1\n",
        "print(game)\n",
        "print(f'Winner depth: {game.get_winner().char}')"
      ],
      "outputs": [
        {
          "output_type": "stream",
          "name": "stdout",
          "text": "Current player: 5\n[5][ ][5][6][6][5][6]\n[6][ ][6][5][5][6][5]\n[5][ ][5][6][6][5][6]\n[6][ ][6][5][5][6][5]\n[5][6][5][6][6][5][6]\n[6][5][6][5][5][5][6]\nWinner depth: 6\n"
        }
      ],
      "execution_count": 71,
      "metadata": {}
    },
    {
      "cell_type": "markdown",
      "source": [
        "Dla głębokości 1, 2, 3 występuje zwasze remis, bez różnicy na kolejność, natomiast dla głębokości 3 i 4 jeżeli 4 rozpoczyna grę to wygrywa w przeciwnym razie wystepuje remis. Natomiast dla głębokości powyżej 4 zawsze wygrywa większa głębokość. Z tego wynika że njbardziej optymalną głębokością jest głębokość 5. Wynika to z faktu że dla tej głębokości mamy duże prawdopodobieństwo wygrnia, ale zarazem may prawie niezauważalny dla człowieka czas obliczń (jeżeli chcemy zastosować go jako przeciwnika dla graczy)."
      ],
      "metadata": {}
    },
    {
      "cell_type": "markdown",
      "source": [
        "# Rózne wagi reakcji na przeciwnika"
      ],
      "metadata": {}
    },
    {
      "cell_type": "code",
      "source": [
        "p1 = Player(\"a\")\n",
        "p2 = Player(\"b\")\n",
        "game = ConnectFour(size=(COLUMN_COUNT, ROW_COUNT), first_player=p1, second_player=p2)\n",
        "\n",
        "print(\"a to waga -1.5\")\n",
        "print(\"b to waga -2.5\")\n",
        "\n",
        "solver = MinMaxSolver(game)\n",
        "while not game.is_finished():\n",
        "    ENEMY_MULTIPLIER = -1.5\n",
        "    move = solver.get_best_move()\n",
        "    game.make_move(ConnectFourMove(move))\n",
        "    if game.is_finished():\n",
        "        break\n",
        "    ENEMY_MULTIPLIER = -2.5\n",
        "    move = solver.get_best_move()\n",
        "    game.make_move(ConnectFourMove(move))\n",
        "print(game)\n",
        "print(f'Winner: {game.get_winner().char}')"
      ],
      "outputs": [
        {
          "output_type": "stream",
          "name": "stdout",
          "text": "a to waga -1.5\nb to waga -2.5\nCurrent player: a\n[b][a][b][b][a][b][b]\n[a][b][a][a][b][a][a]\n[b][a][b][b][b][a][b]\n[a][b][a][a][a][b][a]\n[b][a][b][b][a][b][b]\n[a][a][b][a][a][b][a]\n"
        },
        {
          "output_type": "error",
          "ename": "AttributeError",
          "evalue": "'NoneType' object has no attribute 'char'",
          "traceback": [
            "\u001b[0;31m---------------------------------------------------------------------------\u001b[0m",
            "\u001b[0;31mAttributeError\u001b[0m                            Traceback (most recent call last)",
            "Cell \u001b[0;32mIn[21], line 19\u001b[0m\n\u001b[1;32m     17\u001b[0m     game\u001b[39m.\u001b[39mmake_move(ConnectFourMove(move))\n\u001b[1;32m     18\u001b[0m \u001b[39mprint\u001b[39m(game)\n\u001b[0;32m---> 19\u001b[0m \u001b[39mprint\u001b[39m(\u001b[39mf\u001b[39m\u001b[39m'\u001b[39m\u001b[39mWinner: \u001b[39m\u001b[39m{\u001b[39;00mgame\u001b[39m.\u001b[39mget_winner()\u001b[39m.\u001b[39mchar\u001b[39m}\u001b[39;00m\u001b[39m'\u001b[39m)\n",
            "\u001b[0;31mAttributeError\u001b[0m: 'NoneType' object has no attribute 'char'"
          ]
        }
      ],
      "execution_count": 21,
      "metadata": {}
    },
    {
      "cell_type": "code",
      "source": [
        "p1 = Player(\"a\")\n",
        "p2 = Player(\"b\")\n",
        "game = ConnectFour(size=(COLUMN_COUNT, ROW_COUNT), first_player=p1, second_player=p2)\n",
        "\n",
        "print(\"a to waga -40\")\n",
        "print(\"b to waga -2.5\")\n",
        "\n",
        "solver = MinMaxSolver(game)\n",
        "while not game.is_finished():\n",
        "    ENEMY_MULTIPLIER = -40\n",
        "    move = solver.get_best_move()\n",
        "    game.make_move(ConnectFourMove(move))\n",
        "    if game.is_finished():\n",
        "        break\n",
        "    ENEMY_MULTIPLIER = -2.5\n",
        "    move = solver.get_best_move()\n",
        "    game.make_move(ConnectFourMove(move))\n",
        "print(game)\n",
        "print(f'Winner: {game.get_winner().char}')"
      ],
      "outputs": [
        {
          "output_type": "stream",
          "name": "stdout",
          "text": "a to waga -40\nb to waga -2.5\nCurrent player: a\n[b][ ][b][b][a][b][b]\n[a][ ][a][b][a][a][a]\n[b][ ][b][a][a][b][b]\n[a][ ][a][b][b][a][a]\n[b][b][b][b][a][b][b]\n[a][a][a][b][a][a][a]\nWinner: b\n"
        }
      ],
      "execution_count": 20,
      "metadata": {}
    },
    {
      "cell_type": "code",
      "source": [
        "p1 = Player(\"a\")\n",
        "p2 = Player(\"b\")\n",
        "game = ConnectFour(size=(COLUMN_COUNT, ROW_COUNT), first_player=p1, second_player=p2)\n",
        "\n",
        "print(\"a to waga 1.5\")\n",
        "print(\"b to waga -2.5\")\n",
        "\n",
        "solver = MinMaxSolver(game)\n",
        "while not game.is_finished():\n",
        "    ENEMY_MULTIPLIER = 1.5\n",
        "    move = solver.get_best_move()\n",
        "    game.make_move(ConnectFourMove(move))\n",
        "    if game.is_finished():\n",
        "        break\n",
        "    ENEMY_MULTIPLIER = -2.5\n",
        "    move = solver.get_best_move()\n",
        "    game.make_move(ConnectFourMove(move))\n",
        "print(game)\n",
        "print(f'Winner: {game.get_winner().char}')"
      ],
      "outputs": [
        {
          "output_type": "stream",
          "name": "stdout",
          "text": "a to waga 1.5\nb to waga -2.5\nCurrent player: a\n[a][ ][ ][ ][ ][ ][ ]\n[b][ ][ ][ ][ ][ ][ ]\n[a][ ][ ][a][b][a][ ]\n[b][ ][ ][b][a][a][ ]\n[a][ ][ ][a][b][a][ ]\n[b][b][b][b][a][b][ ]\nWinner: b\n"
        }
      ],
      "execution_count": 22,
      "metadata": {}
    },
    {
      "cell_type": "code",
      "source": [
        "p1 = Player(\"a\")\n",
        "p2 = Player(\"b\")\n",
        "game = ConnectFour(size=(COLUMN_COUNT, ROW_COUNT), first_player=p1, second_player=p2)\n",
        "\n",
        "print(\"a to waga -1.3\")\n",
        "print(\"b to waga -2.5\")\n",
        "\n",
        "solver = MinMaxSolver(game)\n",
        "while not game.is_finished():\n",
        "    ENEMY_MULTIPLIER = -2.5\n",
        "    move = solver.get_best_move()\n",
        "    game.make_move(ConnectFourMove(move))\n",
        "    if game.is_finished():\n",
        "        break\n",
        "    ENEMY_MULTIPLIER = -1.3\n",
        "    move = solver.get_best_move()\n",
        "    game.make_move(ConnectFourMove(move))\n",
        "print(game)\n",
        "print(f'Winner: {game.get_winner().char}')"
      ],
      "outputs": [
        {
          "output_type": "stream",
          "name": "stdout",
          "text": "a to waga -1.3\nb to waga -2.5\nCurrent player: b\n[a][b][ ][a][b][ ][ ]\n[b][a][a][a][b][ ][ ]\n[b][a][b][b][b][ ][ ]\n[a][b][a][a][a][ ][ ]\n[b][a][b][a][b][a][ ]\n[a][b][a][a][b][b][ ]\nWinner: a\n"
        }
      ],
      "execution_count": 24,
      "metadata": {}
    },
    {
      "cell_type": "markdown",
      "source": [
        "# Więcej przykładowych gier z finalnymi parametrami"
      ],
      "metadata": {}
    },
    {
      "cell_type": "code",
      "source": [
        "p1 = Player(\"a\")\n",
        "p2 = Player(\"b\")\n",
        "game = ConnectFour(size=(COLUMN_COUNT, ROW_COUNT), first_player=p1, second_player=p2)\n",
        "\n",
        "solver = MinMaxSolver(game)\n",
        "\n",
        "while not game.is_finished():\n",
        "    move = solver.get_best_move()\n",
        "    # print(move)\n",
        "    game.make_move(ConnectFourMove(move))\n",
        "print(game)"
      ],
      "outputs": [
        {
          "output_type": "stream",
          "name": "stdout",
          "text": "Current player: b\n[a][b][ ][a][b][ ][ ]\n[b][a][a][a][b][ ][ ]\n[b][a][b][b][b][ ][ ]\n[a][b][a][a][a][ ][ ]\n[b][a][b][a][b][a][ ]\n[a][b][a][a][b][b][ ]\n"
        }
      ],
      "execution_count": 35,
      "metadata": {}
    },
    {
      "cell_type": "code",
      "source": [
        "p1 = Player(\"a\")\n",
        "p2 = Player(\"b\")\n",
        "game = ConnectFour(size=(COLUMN_COUNT, ROW_COUNT), first_player=p1, second_player=p2)\n",
        "\n",
        "solver = MinMaxSolver(game)\n",
        "game.make_move(ConnectFourMove(4))\n",
        "game.make_move(ConnectFourMove(4))\n",
        "game.make_move(ConnectFourMove(6))\n",
        "game.make_move(ConnectFourMove(1))\n",
        "\n",
        "while not game.is_finished():\n",
        "    move = solver.get_best_move()\n",
        "    # print(move)\n",
        "    game.make_move(ConnectFourMove(move))\n",
        "print(game)"
      ],
      "outputs": [
        {
          "output_type": "stream",
          "name": "stdout",
          "text": "Current player: a\n[ ][ ][ ][a][b][ ][ ]\n[ ][ ][ ][b][a][ ][ ]\n[a][ ][b][a][b][ ][ ]\n[b][b][b][a][a][ ][ ]\n[a][a][b][a][b][ ][ ]\n[b][b][a][b][a][ ][a]\n"
        }
      ],
      "execution_count": 38,
      "metadata": {}
    }
  ],
  "metadata": {
    "kernelspec": {
      "name": "python",
      "language": "python",
      "display_name": "Pyolite (preview)"
    },
    "language_info": {
      "codemirror_mode": {
        "name": "python",
        "version": 3
      },
      "file_extension": ".py",
      "mimetype": "text/x-python",
      "name": "python",
      "nbconvert_exporter": "python",
      "pygments_lexer": "ipython3",
      "version": "3.8"
    },
    "nteract": {
      "version": "nteract-front-end@1.0.0"
    },
    "kernel_info": {
      "name": "python"
    }
  },
  "nbformat": 4,
  "nbformat_minor": 0
}